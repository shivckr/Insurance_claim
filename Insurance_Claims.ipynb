{
  "nbformat": 4,
  "nbformat_minor": 0,
  "metadata": {
    "kernelspec": {
      "display_name": "Python 3",
      "language": "python",
      "name": "python3"
    },
    "language_info": {
      "codemirror_mode": {
        "name": "ipython",
        "version": 3
      },
      "file_extension": ".py",
      "mimetype": "text/x-python",
      "name": "python",
      "nbconvert_exporter": "python",
      "pygments_lexer": "ipython3",
      "version": "3.6.5"
    },
    "colab": {
      "name": "Insurance_Claims.ipynb",
      "version": "0.3.2",
      "provenance": []
    }
  },
  "cells": [
    {
      "cell_type": "code",
      "metadata": {
        "id": "xrF-CwurpiAb",
        "colab_type": "code",
        "colab": {}
      },
      "source": [
        "# Import packages\n",
        "\n",
        "import pandas as pd\n",
        "import numpy as np\n",
        "from sklearn.model_selection import train_test_split\n",
        "from sklearn.tree import DecisionTreeClassifier\n",
        "from sklearn.ensemble import RandomForestClassifier\n",
        "from sklearn import metrics\n",
        "from matplotlib import pyplot as plt\n",
        "import seaborn as sns\n",
        "from sklearn.metrics import roc_curve, auc\n",
        "%matplotlib inline"
      ],
      "execution_count": 0,
      "outputs": []
    },
    {
      "cell_type": "code",
      "metadata": {
        "id": "I25OPe_QpiAg",
        "colab_type": "code",
        "colab": {}
      },
      "source": [
        "# Read dataset\n",
        "url= \"https://raw.githubusercontent.com/shivckr/Insurance_claim/master/ClaimsData.csv\"\n",
        "insurance_data = pd.read_csv(url)"
      ],
      "execution_count": 0,
      "outputs": []
    },
    {
      "cell_type": "code",
      "metadata": {
        "id": "vy2VU5iOpiAk",
        "colab_type": "code",
        "outputId": "ca34a816-59a1-40f1-d5ef-b0e8a3f604cc",
        "colab": {
          "base_uri": "https://localhost:8080/",
          "height": 534
        }
      },
      "source": [
        "# Display first five rows \n",
        "\n",
        "insurance_data.head(15)"
      ],
      "execution_count": 36,
      "outputs": [
        {
          "output_type": "execute_result",
          "data": {
            "text/html": [
              "<div>\n",
              "<style scoped>\n",
              "    .dataframe tbody tr th:only-of-type {\n",
              "        vertical-align: middle;\n",
              "    }\n",
              "\n",
              "    .dataframe tbody tr th {\n",
              "        vertical-align: top;\n",
              "    }\n",
              "\n",
              "    .dataframe thead th {\n",
              "        text-align: right;\n",
              "    }\n",
              "</style>\n",
              "<table border=\"1\" class=\"dataframe\">\n",
              "  <thead>\n",
              "    <tr style=\"text-align: right;\">\n",
              "      <th></th>\n",
              "      <th>age</th>\n",
              "      <th>alzheimers</th>\n",
              "      <th>arthritis</th>\n",
              "      <th>cancer</th>\n",
              "      <th>copd</th>\n",
              "      <th>depression</th>\n",
              "      <th>diabetes</th>\n",
              "      <th>heart.failure</th>\n",
              "      <th>ihd</th>\n",
              "      <th>kidney</th>\n",
              "      <th>osteoporosis</th>\n",
              "      <th>stroke</th>\n",
              "      <th>reimbursement2008</th>\n",
              "      <th>bucket2008</th>\n",
              "      <th>reimbursement2009</th>\n",
              "      <th>bucket2009</th>\n",
              "    </tr>\n",
              "  </thead>\n",
              "  <tbody>\n",
              "    <tr>\n",
              "      <th>0</th>\n",
              "      <td>85</td>\n",
              "      <td>0</td>\n",
              "      <td>0</td>\n",
              "      <td>0</td>\n",
              "      <td>0</td>\n",
              "      <td>0</td>\n",
              "      <td>0</td>\n",
              "      <td>0</td>\n",
              "      <td>0</td>\n",
              "      <td>0</td>\n",
              "      <td>0</td>\n",
              "      <td>0</td>\n",
              "      <td>0</td>\n",
              "      <td>1</td>\n",
              "      <td>0</td>\n",
              "      <td>1</td>\n",
              "    </tr>\n",
              "    <tr>\n",
              "      <th>1</th>\n",
              "      <td>59</td>\n",
              "      <td>0</td>\n",
              "      <td>0</td>\n",
              "      <td>0</td>\n",
              "      <td>0</td>\n",
              "      <td>0</td>\n",
              "      <td>0</td>\n",
              "      <td>0</td>\n",
              "      <td>0</td>\n",
              "      <td>0</td>\n",
              "      <td>0</td>\n",
              "      <td>0</td>\n",
              "      <td>0</td>\n",
              "      <td>1</td>\n",
              "      <td>0</td>\n",
              "      <td>1</td>\n",
              "    </tr>\n",
              "    <tr>\n",
              "      <th>2</th>\n",
              "      <td>67</td>\n",
              "      <td>0</td>\n",
              "      <td>0</td>\n",
              "      <td>0</td>\n",
              "      <td>0</td>\n",
              "      <td>0</td>\n",
              "      <td>0</td>\n",
              "      <td>0</td>\n",
              "      <td>0</td>\n",
              "      <td>0</td>\n",
              "      <td>0</td>\n",
              "      <td>0</td>\n",
              "      <td>0</td>\n",
              "      <td>1</td>\n",
              "      <td>0</td>\n",
              "      <td>1</td>\n",
              "    </tr>\n",
              "    <tr>\n",
              "      <th>3</th>\n",
              "      <td>52</td>\n",
              "      <td>0</td>\n",
              "      <td>0</td>\n",
              "      <td>0</td>\n",
              "      <td>0</td>\n",
              "      <td>0</td>\n",
              "      <td>0</td>\n",
              "      <td>0</td>\n",
              "      <td>0</td>\n",
              "      <td>0</td>\n",
              "      <td>0</td>\n",
              "      <td>0</td>\n",
              "      <td>0</td>\n",
              "      <td>1</td>\n",
              "      <td>0</td>\n",
              "      <td>1</td>\n",
              "    </tr>\n",
              "    <tr>\n",
              "      <th>4</th>\n",
              "      <td>67</td>\n",
              "      <td>0</td>\n",
              "      <td>0</td>\n",
              "      <td>0</td>\n",
              "      <td>0</td>\n",
              "      <td>0</td>\n",
              "      <td>0</td>\n",
              "      <td>0</td>\n",
              "      <td>0</td>\n",
              "      <td>0</td>\n",
              "      <td>0</td>\n",
              "      <td>0</td>\n",
              "      <td>0</td>\n",
              "      <td>1</td>\n",
              "      <td>0</td>\n",
              "      <td>1</td>\n",
              "    </tr>\n",
              "    <tr>\n",
              "      <th>5</th>\n",
              "      <td>68</td>\n",
              "      <td>0</td>\n",
              "      <td>0</td>\n",
              "      <td>0</td>\n",
              "      <td>0</td>\n",
              "      <td>0</td>\n",
              "      <td>0</td>\n",
              "      <td>0</td>\n",
              "      <td>0</td>\n",
              "      <td>0</td>\n",
              "      <td>0</td>\n",
              "      <td>0</td>\n",
              "      <td>0</td>\n",
              "      <td>1</td>\n",
              "      <td>0</td>\n",
              "      <td>1</td>\n",
              "    </tr>\n",
              "    <tr>\n",
              "      <th>6</th>\n",
              "      <td>75</td>\n",
              "      <td>0</td>\n",
              "      <td>0</td>\n",
              "      <td>0</td>\n",
              "      <td>0</td>\n",
              "      <td>0</td>\n",
              "      <td>0</td>\n",
              "      <td>0</td>\n",
              "      <td>0</td>\n",
              "      <td>0</td>\n",
              "      <td>0</td>\n",
              "      <td>0</td>\n",
              "      <td>0</td>\n",
              "      <td>1</td>\n",
              "      <td>0</td>\n",
              "      <td>1</td>\n",
              "    </tr>\n",
              "    <tr>\n",
              "      <th>7</th>\n",
              "      <td>70</td>\n",
              "      <td>0</td>\n",
              "      <td>0</td>\n",
              "      <td>0</td>\n",
              "      <td>0</td>\n",
              "      <td>0</td>\n",
              "      <td>0</td>\n",
              "      <td>0</td>\n",
              "      <td>0</td>\n",
              "      <td>0</td>\n",
              "      <td>0</td>\n",
              "      <td>0</td>\n",
              "      <td>0</td>\n",
              "      <td>1</td>\n",
              "      <td>0</td>\n",
              "      <td>1</td>\n",
              "    </tr>\n",
              "    <tr>\n",
              "      <th>8</th>\n",
              "      <td>67</td>\n",
              "      <td>0</td>\n",
              "      <td>0</td>\n",
              "      <td>0</td>\n",
              "      <td>0</td>\n",
              "      <td>0</td>\n",
              "      <td>0</td>\n",
              "      <td>0</td>\n",
              "      <td>0</td>\n",
              "      <td>0</td>\n",
              "      <td>0</td>\n",
              "      <td>0</td>\n",
              "      <td>0</td>\n",
              "      <td>1</td>\n",
              "      <td>0</td>\n",
              "      <td>1</td>\n",
              "    </tr>\n",
              "    <tr>\n",
              "      <th>9</th>\n",
              "      <td>67</td>\n",
              "      <td>0</td>\n",
              "      <td>0</td>\n",
              "      <td>0</td>\n",
              "      <td>0</td>\n",
              "      <td>0</td>\n",
              "      <td>0</td>\n",
              "      <td>0</td>\n",
              "      <td>0</td>\n",
              "      <td>0</td>\n",
              "      <td>0</td>\n",
              "      <td>0</td>\n",
              "      <td>0</td>\n",
              "      <td>1</td>\n",
              "      <td>0</td>\n",
              "      <td>1</td>\n",
              "    </tr>\n",
              "    <tr>\n",
              "      <th>10</th>\n",
              "      <td>89</td>\n",
              "      <td>0</td>\n",
              "      <td>0</td>\n",
              "      <td>0</td>\n",
              "      <td>0</td>\n",
              "      <td>0</td>\n",
              "      <td>0</td>\n",
              "      <td>0</td>\n",
              "      <td>0</td>\n",
              "      <td>0</td>\n",
              "      <td>0</td>\n",
              "      <td>0</td>\n",
              "      <td>0</td>\n",
              "      <td>1</td>\n",
              "      <td>0</td>\n",
              "      <td>1</td>\n",
              "    </tr>\n",
              "    <tr>\n",
              "      <th>11</th>\n",
              "      <td>56</td>\n",
              "      <td>0</td>\n",
              "      <td>0</td>\n",
              "      <td>0</td>\n",
              "      <td>0</td>\n",
              "      <td>0</td>\n",
              "      <td>0</td>\n",
              "      <td>0</td>\n",
              "      <td>0</td>\n",
              "      <td>0</td>\n",
              "      <td>0</td>\n",
              "      <td>0</td>\n",
              "      <td>0</td>\n",
              "      <td>1</td>\n",
              "      <td>0</td>\n",
              "      <td>1</td>\n",
              "    </tr>\n",
              "    <tr>\n",
              "      <th>12</th>\n",
              "      <td>74</td>\n",
              "      <td>0</td>\n",
              "      <td>0</td>\n",
              "      <td>0</td>\n",
              "      <td>0</td>\n",
              "      <td>0</td>\n",
              "      <td>0</td>\n",
              "      <td>0</td>\n",
              "      <td>0</td>\n",
              "      <td>0</td>\n",
              "      <td>0</td>\n",
              "      <td>0</td>\n",
              "      <td>0</td>\n",
              "      <td>1</td>\n",
              "      <td>0</td>\n",
              "      <td>1</td>\n",
              "    </tr>\n",
              "    <tr>\n",
              "      <th>13</th>\n",
              "      <td>81</td>\n",
              "      <td>0</td>\n",
              "      <td>0</td>\n",
              "      <td>0</td>\n",
              "      <td>0</td>\n",
              "      <td>0</td>\n",
              "      <td>0</td>\n",
              "      <td>0</td>\n",
              "      <td>0</td>\n",
              "      <td>0</td>\n",
              "      <td>0</td>\n",
              "      <td>0</td>\n",
              "      <td>0</td>\n",
              "      <td>1</td>\n",
              "      <td>0</td>\n",
              "      <td>1</td>\n",
              "    </tr>\n",
              "    <tr>\n",
              "      <th>14</th>\n",
              "      <td>86</td>\n",
              "      <td>0</td>\n",
              "      <td>0</td>\n",
              "      <td>0</td>\n",
              "      <td>0</td>\n",
              "      <td>0</td>\n",
              "      <td>0</td>\n",
              "      <td>0</td>\n",
              "      <td>0</td>\n",
              "      <td>0</td>\n",
              "      <td>0</td>\n",
              "      <td>0</td>\n",
              "      <td>0</td>\n",
              "      <td>1</td>\n",
              "      <td>0</td>\n",
              "      <td>1</td>\n",
              "    </tr>\n",
              "  </tbody>\n",
              "</table>\n",
              "</div>"
            ],
            "text/plain": [
              "    age  alzheimers  arthritis  ...  bucket2008  reimbursement2009  bucket2009\n",
              "0    85           0          0  ...           1                  0           1\n",
              "1    59           0          0  ...           1                  0           1\n",
              "2    67           0          0  ...           1                  0           1\n",
              "3    52           0          0  ...           1                  0           1\n",
              "4    67           0          0  ...           1                  0           1\n",
              "5    68           0          0  ...           1                  0           1\n",
              "6    75           0          0  ...           1                  0           1\n",
              "7    70           0          0  ...           1                  0           1\n",
              "8    67           0          0  ...           1                  0           1\n",
              "9    67           0          0  ...           1                  0           1\n",
              "10   89           0          0  ...           1                  0           1\n",
              "11   56           0          0  ...           1                  0           1\n",
              "12   74           0          0  ...           1                  0           1\n",
              "13   81           0          0  ...           1                  0           1\n",
              "14   86           0          0  ...           1                  0           1\n",
              "\n",
              "[15 rows x 16 columns]"
            ]
          },
          "metadata": {
            "tags": []
          },
          "execution_count": 36
        }
      ]
    },
    {
      "cell_type": "code",
      "metadata": {
        "id": "TurTpry4piAp",
        "colab_type": "code",
        "colab": {}
      },
      "source": [
        "# Info of dataframe\n",
        "\n",
        "insurance_data.info()"
      ],
      "execution_count": 0,
      "outputs": []
    },
    {
      "cell_type": "code",
      "metadata": {
        "id": "VA0dO_bnpiAs",
        "colab_type": "code",
        "colab": {}
      },
      "source": [
        "# Descriptive statistics of data\n",
        "\n",
        "insurance_data.describe()"
      ],
      "execution_count": 0,
      "outputs": []
    },
    {
      "cell_type": "code",
      "metadata": {
        "id": "f321AiWopiAw",
        "colab_type": "code",
        "colab": {}
      },
      "source": [
        "#Replace target values from 1 to 5 to 0 to 4\n",
        "\n",
        "insurance_data [['bucket2008','bucket2009']]=insurance_data [['bucket2008','bucket2009']].apply(pd.Series.replace, to_replace=1, value=0)\n",
        "insurance_data [['bucket2008','bucket2009']]=insurance_data [['bucket2008','bucket2009']].apply(pd.Series.replace, to_replace=2, value=1)\n",
        "insurance_data [['bucket2008','bucket2009']]=insurance_data [['bucket2008','bucket2009']].apply(pd.Series.replace, to_replace=3, value=2)\n",
        "insurance_data [['bucket2008','bucket2009']]=insurance_data [['bucket2008','bucket2009']].apply(pd.Series.replace, to_replace=4, value=3)\n",
        "insurance_data [['bucket2008','bucket2009']]=insurance_data [['bucket2008','bucket2009']].apply(pd.Series.replace, to_replace=5, value=4)"
      ],
      "execution_count": 0,
      "outputs": []
    },
    {
      "cell_type": "markdown",
      "metadata": {
        "id": "zOluQOqspiA0",
        "colab_type": "text"
      },
      "source": [
        "### Visualizations"
      ]
    },
    {
      "cell_type": "code",
      "metadata": {
        "id": "lz2yMZZKpiA1",
        "colab_type": "code",
        "colab": {}
      },
      "source": [
        "# Partition into age buckets \n",
        "\n",
        "def agetype_func(age):\n",
        "    \n",
        "    if age.item()<40:\n",
        "        return 'Young'\n",
        "    elif age.item()>=40 and age.item()<50:\n",
        "        return 'Middle aged (40-50)' \n",
        "    elif age.item()>=50 and age.item()<60:\n",
        "        return 'Middle aged(50-60)'\n",
        "    else:\n",
        "        return 'Old(>60)'\n",
        "insurance_data['AgeType'] = insurance_data[['age']].apply(agetype_func, axis=1)"
      ],
      "execution_count": 0,
      "outputs": []
    },
    {
      "cell_type": "code",
      "metadata": {
        "id": "1PME0AcCpiA5",
        "colab_type": "code",
        "colab": {}
      },
      "source": [
        "# Partition into buckets of insurance risk\n",
        "\n",
        "def insurance_stat(yes):\n",
        "    if yes.item()==0:\n",
        "        return 'Low'\n",
        "    elif yes.item()==1:\n",
        "        return 'Emerging' \n",
        "    elif yes.item()==2:\n",
        "        return 'Moderate' \n",
        "    elif yes.item()==3:\n",
        "        return 'High' \n",
        "    else:\n",
        "        return 'Very High'\n",
        "insurance_data['bucket2009_type'] = insurance_data[['bucket2009']].apply(insurance_stat, axis=1)\n",
        "insurance_data['bucket2008_type'] = insurance_data[['bucket2008']].apply(insurance_stat, axis=1)"
      ],
      "execution_count": 0,
      "outputs": []
    },
    {
      "cell_type": "code",
      "metadata": {
        "id": "TnzFFmqCpiA9",
        "colab_type": "code",
        "colab": {}
      },
      "source": [
        "# Percentage of patients in each insurance bucket by age?\n",
        "\n",
        "mx = sns.factorplot(x=\"AgeType\", hue='bucket2009_type',data=insurance_data, kind=\"count\", size=6)\n",
        "mx.set(ylabel='Number of Patients')\n",
        "plt.title('Insurance risk factor by age');\n"
      ],
      "execution_count": 0,
      "outputs": []
    },
    {
      "cell_type": "code",
      "metadata": {
        "id": "0bQROQT4piBA",
        "colab_type": "code",
        "colab": {}
      },
      "source": [
        "# The amount of reimbursement for each age type and bucket type is shown in the year 2009\n",
        "plt.figure(figsize=(10,5))\n",
        "sns.boxplot('AgeType','reimbursement2009', data=insurance_data, hue=\"bucket2009_type\")\n",
        "plt.title('Insurance Reimbursement for each age and bucket type in 2009')"
      ],
      "execution_count": 0,
      "outputs": []
    },
    {
      "cell_type": "code",
      "metadata": {
        "id": "_QCOVE9cpiBE",
        "colab_type": "code",
        "colab": {}
      },
      "source": [
        "# The amount of reimbursement for each age type and bucket type is shown in the year 2008\n",
        "plt.figure(figsize=(10,5))\n",
        "sns.boxplot('AgeType','reimbursement2008', data=insurance_data, hue=\"bucket2008_type\")\n",
        "plt.title('Insurance Reimbursement for each age and bucket type in 2008 ')"
      ],
      "execution_count": 0,
      "outputs": []
    },
    {
      "cell_type": "code",
      "metadata": {
        "id": "GN3Fwvr6piBI",
        "colab_type": "code",
        "colab": {}
      },
      "source": [
        "# Insurance Reimbursement for people affected by depression\n",
        "plt.figure(figsize=(10,5))\n",
        "sns.boxplot('depression','reimbursement2009', data=insurance_data, hue=\"bucket2009_type\")\n",
        "plt.title('Insurance Reimbursement for people affected by depression ')"
      ],
      "execution_count": 0,
      "outputs": []
    },
    {
      "cell_type": "code",
      "metadata": {
        "id": "jAMxnu_vpiBL",
        "colab_type": "code",
        "colab": {}
      },
      "source": [
        "# Insurance Reimbursement for people affected by cancer in 2009\n",
        "plt.figure(figsize=(10,5))\n",
        "sns.boxplot('cancer','reimbursement2009', data=insurance_data, hue=\"bucket2009_type\")\n",
        "plt.title('Insurance Reimbursement for people affected by cancer in 2009 ')"
      ],
      "execution_count": 0,
      "outputs": []
    },
    {
      "cell_type": "code",
      "metadata": {
        "id": "Pv3avkY2piBP",
        "colab_type": "code",
        "colab": {}
      },
      "source": [
        "# When the risk factor is high there are more chances of reimbursement.\n",
        "sns.lmplot('age', # Horizontal axis\n",
        "           'reimbursement2009', # Vertical axis\n",
        "           data=insurance_data, # Data source\n",
        "           fit_reg=False, # Don't fix a regression line\n",
        "           hue=\"bucket2009_type\", # Set color\n",
        "           scatter_kws={\"marker\": \"D\", # Set marker style\n",
        "                        \"s\": 100}) # S marker size"
      ],
      "execution_count": 0,
      "outputs": []
    },
    {
      "cell_type": "code",
      "metadata": {
        "id": "qA5r7XqSpiBT",
        "colab_type": "code",
        "colab": {}
      },
      "source": [
        "#How is the reimbursement with amongst ages with kidney problems\n",
        "\n",
        "sns.factorplot(x=\"kidney\", y=\"reimbursement2009\", hue=\"AgeType\", data=insurance_data, kind=\"bar\");"
      ],
      "execution_count": 0,
      "outputs": []
    },
    {
      "cell_type": "code",
      "metadata": {
        "id": "cXay9GA0piBY",
        "colab_type": "code",
        "colab": {}
      },
      "source": [
        "##How is the reimbursement with amongst ages with stroke problems\n",
        "\n",
        "plt.figure(figsize=(10,9))\n",
        "sns.factorplot(x=\"stroke\", y=\"reimbursement2009\", hue=\"AgeType\", data=insurance_data, kind=\"bar\",col=\"bucket2009_type\");"
      ],
      "execution_count": 0,
      "outputs": []
    },
    {
      "cell_type": "code",
      "metadata": {
        "id": "_Xw5xEZLpiBc",
        "colab_type": "code",
        "colab": {}
      },
      "source": [
        "#How is the reimbursement with amongst ages with heart failure\n",
        "\n",
        "plt.figure(figsize=(25,9))\n",
        "sns.factorplot(x=\"heart.failure\", y=\"reimbursement2009\", hue=\"AgeType\", data=insurance_data, kind=\"bar\",col=\"bucket2009_type\");"
      ],
      "execution_count": 0,
      "outputs": []
    },
    {
      "cell_type": "code",
      "metadata": {
        "id": "bq-Bqju8piBf",
        "colab_type": "code",
        "colab": {}
      },
      "source": [
        "#Heatmap \n",
        "\n",
        "plt.figure(figsize=(16,9))\n",
        "sns.heatmap(insurance_data.corr(),cmap=\"BrBG\",annot=True)"
      ],
      "execution_count": 0,
      "outputs": []
    },
    {
      "cell_type": "code",
      "metadata": {
        "id": "5gV4ZcvnpiBj",
        "colab_type": "code",
        "colab": {}
      },
      "source": [
        "#Let's remove highly correlated values\n",
        "\n",
        "insurance_data.drop(['AgeType','bucket2009_type','bucket2008_type'],axis=1,inplace=True)"
      ],
      "execution_count": 0,
      "outputs": []
    },
    {
      "cell_type": "markdown",
      "metadata": {
        "id": "vCR9PM0npiBm",
        "colab_type": "text"
      },
      "source": [
        "#### Prepare the data"
      ]
    },
    {
      "cell_type": "code",
      "metadata": {
        "id": "GYIh1yHFpiBn",
        "colab_type": "code",
        "outputId": "041531b9-c2d0-4a9a-900a-f910eaa8ffd0",
        "colab": {
          "base_uri": "https://localhost:8080/",
          "height": 119
        }
      },
      "source": [
        "insurance_data['bucket2008'].value_counts()"
      ],
      "execution_count": 34,
      "outputs": [
        {
          "output_type": "execute_result",
          "data": {
            "text/plain": [
              "1    340202\n",
              "2     63173\n",
              "3     30847\n",
              "4     19914\n",
              "5      3869\n",
              "Name: bucket2008, dtype: int64"
            ]
          },
          "metadata": {
            "tags": []
          },
          "execution_count": 34
        }
      ]
    },
    {
      "cell_type": "code",
      "metadata": {
        "id": "SlR8Pg5ApiBx",
        "colab_type": "code",
        "colab": {}
      },
      "source": [
        "# Split into train and test\n",
        "\n",
        "X = insurance_data.drop(['bucket2009','reimbursement2009'],axis=1)\n",
        "\n",
        "y = insurance_data.bucket2009\n",
        "\n",
        "X_train, X_test, y_train, y_test = train_test_split(X,y,random_state=23)"
      ],
      "execution_count": 0,
      "outputs": []
    },
    {
      "cell_type": "code",
      "metadata": {
        "id": "mlnoYzb3piB2",
        "colab_type": "code",
        "colab": {}
      },
      "source": [
        "# Feature Scaling\n",
        "\n",
        "from sklearn.preprocessing import StandardScaler\n",
        "scaler = StandardScaler()\n",
        "X_train = scaler.fit_transform(X_train)\n",
        "X_test = scaler.transform(X_test)"
      ],
      "execution_count": 0,
      "outputs": []
    },
    {
      "cell_type": "code",
      "metadata": {
        "id": "hqSyRCstpiB-",
        "colab_type": "code",
        "colab": {}
      },
      "source": [
        "# Decision tree classifier\n",
        "\n",
        "dt=DecisionTreeClassifier(criterion=\"gini\",min_samples_leaf=10,class_weight='balanced')\n",
        "dt_model=dt.fit(X_train,y_train)"
      ],
      "execution_count": 0,
      "outputs": []
    },
    {
      "cell_type": "markdown",
      "metadata": {
        "id": "20vp4JH5J9LU",
        "colab_type": "text"
      },
      "source": [
        ""
      ]
    },
    {
      "cell_type": "code",
      "metadata": {
        "id": "fq-mF2yapiCC",
        "colab_type": "code",
        "outputId": "67d2b8df-f72b-402f-a22f-bc17552894ba",
        "colab": {
          "base_uri": "https://localhost:8080/",
          "height": 255
        }
      },
      "source": [
        "# Let's understand feature imporatnce\n",
        "\n",
        "#dt_model.feature_importances_\n",
        "list(zip(X.columns,dt_model.feature_importances_))"
      ],
      "execution_count": 52,
      "outputs": [
        {
          "output_type": "execute_result",
          "data": {
            "text/plain": [
              "[('age', 0.23364278453195636),\n",
              " ('alzheimers', 0.024420221642040534),\n",
              " ('arthritis', 0.02035007282555606),\n",
              " ('cancer', 0.008536542517377432),\n",
              " ('copd', 0.01212446670168245),\n",
              " ('depression', 0.030686584167529257),\n",
              " ('diabetes', 0.02011819577897609),\n",
              " ('heart.failure', 0.02019915797190785),\n",
              " ('ihd', 0.01509427785122811),\n",
              " ('kidney', 0.014574617875845531),\n",
              " ('osteoporosis', 0.026981146102651496),\n",
              " ('stroke', 0.008624935959561604),\n",
              " ('reimbursement2008', 0.5642222599968564),\n",
              " ('bucket2008', 0.00042473607683071344)]"
            ]
          },
          "metadata": {
            "tags": []
          },
          "execution_count": 52
        }
      ]
    },
    {
      "cell_type": "code",
      "metadata": {
        "id": "pCEs-P-BpiCL",
        "colab_type": "code",
        "colab": {}
      },
      "source": [
        "# Let's export insurance model tree\n",
        "\n",
        "from sklearn import tree\n",
        "with open(\"insurance_tree.dot\", 'w') as f:\n",
        "    f = tree.export_graphviz(dt_model, out_file=f, feature_names=X.columns)"
      ],
      "execution_count": 0,
      "outputs": []
    },
    {
      "cell_type": "code",
      "metadata": {
        "id": "EmTwcK48piCO",
        "colab_type": "code",
        "colab": {}
      },
      "source": [
        "# Confusion matrix\n",
        "\n",
        "dt_prd=dt_model.predict(X_test)\n",
        "print(metrics.accuracy_score(y_test,dt_prd))\n",
        "df_confusion = metrics.confusion_matrix(y_test,dt_prd)\n",
        "df_confusion"
      ],
      "execution_count": 0,
      "outputs": []
    },
    {
      "cell_type": "code",
      "metadata": {
        "id": "PgdoAg_wpiCS",
        "colab_type": "code",
        "colab": {}
      },
      "source": [
        "print(metrics.classification_report(y_test,dt_prd))"
      ],
      "execution_count": 0,
      "outputs": []
    },
    {
      "cell_type": "code",
      "metadata": {
        "id": "V5Ii1zOzpiCU",
        "colab_type": "code",
        "colab": {}
      },
      "source": [
        "# calculate null accuracy (for multi-class classification problems)\n",
        "y_test.value_counts().head(1) / len(y_test)"
      ],
      "execution_count": 0,
      "outputs": []
    },
    {
      "cell_type": "code",
      "metadata": {
        "id": "ctnsQXAIpiCX",
        "colab_type": "code",
        "colab": {}
      },
      "source": [
        "# Random Forest Classifier\n",
        "\n",
        "rf_clf=RandomForestClassifier(min_samples_leaf=20)\n",
        "rf_model=rf_clf.fit(X_train,y_train)\n",
        "rf_prediction=rf_model.predict(X_test)"
      ],
      "execution_count": 0,
      "outputs": []
    },
    {
      "cell_type": "code",
      "metadata": {
        "id": "F69UfRKIpiCa",
        "colab_type": "code",
        "colab": {}
      },
      "source": [
        "print(metrics.accuracy_score(y_test,rf_prediction))\n",
        "print(metrics.confusion_matrix(y_test,rf_prediction))\n",
        "print(metrics.classification_report(y_test,rf_prediction))"
      ],
      "execution_count": 0,
      "outputs": []
    },
    {
      "cell_type": "markdown",
      "metadata": {
        "id": "IrM8IJl8piCe",
        "colab_type": "text"
      },
      "source": [
        "#### Although the accuracy increases the f1 score of the high risk factor case is 0 which is a little dangerous.\n",
        "#### So let us balance the class weight and increase number of estimators"
      ]
    },
    {
      "cell_type": "code",
      "metadata": {
        "id": "yhonOh9VpiCf",
        "colab_type": "code",
        "colab": {}
      },
      "source": [
        "rf_clf=RandomForestClassifier(n_estimators=100,class_weight=\"balanced\",min_samples_leaf=40)\n",
        "rf_model=rf_clf.fit(X_train,y_train)\n",
        "rf_prediction=rf_model.predict(X_test)"
      ],
      "execution_count": 0,
      "outputs": []
    },
    {
      "cell_type": "code",
      "metadata": {
        "id": "XD4rtaDnpiCj",
        "colab_type": "code",
        "outputId": "3e33f6a2-d65e-4368-8bbf-3e13e6503bc1",
        "colab": {
          "base_uri": "https://localhost:8080/",
          "height": 323
        }
      },
      "source": [
        "print(metrics.accuracy_score(y_test,rf_prediction))\n",
        "print(metrics.confusion_matrix(y_test,rf_prediction))\n",
        "print(metrics.classification_report(y_test,rf_prediction))"
      ],
      "execution_count": 54,
      "outputs": [
        {
          "output_type": "stream",
          "text": [
            "0.6024174250231437\n",
            "[[56212 13532  4469  1568  1241]\n",
            " [ 3558  9737  3941  2696  1716]\n",
            " [ 1829  3803  1932  1534  1054]\n",
            " [  695  1500   875   903  1049]\n",
            " [   66   150    95   153   194]]\n",
            "              precision    recall  f1-score   support\n",
            "\n",
            "           1       0.90      0.73      0.81     77022\n",
            "           2       0.34      0.45      0.39     21648\n",
            "           3       0.17      0.19      0.18     10152\n",
            "           4       0.13      0.18      0.15      5022\n",
            "           5       0.04      0.29      0.07       658\n",
            "\n",
            "    accuracy                           0.60    114502\n",
            "   macro avg       0.32      0.37      0.32    114502\n",
            "weighted avg       0.69      0.60      0.64    114502\n",
            "\n"
          ],
          "name": "stdout"
        }
      ]
    },
    {
      "cell_type": "code",
      "metadata": {
        "id": "9MJlb9qYpiCn",
        "colab_type": "code",
        "colab": {}
      },
      "source": [
        ""
      ],
      "execution_count": 0,
      "outputs": []
    },
    {
      "cell_type": "code",
      "metadata": {
        "id": "1ybySZP5piCq",
        "colab_type": "code",
        "colab": {}
      },
      "source": [
        ""
      ],
      "execution_count": 0,
      "outputs": []
    }
  ]
}